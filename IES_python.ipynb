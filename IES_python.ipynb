{
 "cells": [
  {
   "cell_type": "code",
   "execution_count": 9,
   "metadata": {},
   "outputs": [
    {
     "name": "stdout",
     "output_type": "stream",
     "text": [
      "Data saved to 'PL_2021_standings.csv'.\n"
     ]
    }
   ],
   "source": [
    "import requests\n",
    "import pandas as pd\n",
    "\n",
    "# PL\n",
    "api_token = 'f979014853134c63bab59fba59b659cd'\n",
    "url = 'https://api.football-data.org/v4/competitions/PD/standings'\n",
    "headers = {'X-Auth-Token': api_token}\n",
    "\n",
    "# Parameters to select matchday and seasone\n",
    "params = {\n",
    "    'season': '2021',\n",
    "    'matchday': '13'  \n",
    "}\n",
    "\n",
    "\n",
    "response = requests.get(url, headers=headers, params=params)\n",
    "\n",
    "\n",
    "if response.status_code == 200:\n",
    "    data = response.json()\n",
    "\n",
    "    \n",
    "    if 'standings' in data:\n",
    "       \n",
    "        all_standings = []\n",
    "        for standing_type in data['standings']:  \n",
    "            for entry in standing_type['table']:\n",
    "                team_info = entry['team']\n",
    "                all_standings.append({\n",
    "                    'position': entry['position'],\n",
    "                    'team_id': team_info['id'],\n",
    "                    'team_name': team_info['name'],\n",
    "                    'playedGames': entry['playedGames'],\n",
    "                    'form': entry['form'],\n",
    "                    'won': entry['won'],\n",
    "                    'draw': entry['draw'],\n",
    "                    'lost': entry['lost'],\n",
    "                    'points': entry['points'],\n",
    "                    'goalsFor': entry['goalsFor'],\n",
    "                    'goalsAgainst': entry['goalsAgainst'],\n",
    "                    'goalDifference': entry['goalDifference']\n",
    "                })\n",
    "\n",
    "        \n",
    "        standings_df = pd.DataFrame(all_standings)\n",
    "\n",
    "        \n",
    "        standings_df.to_csv('PD2_2021_standings.csv', index=False)\n",
    "        print(\"Data saved to 'PL_2021_standings.csv'.\")\n",
    "    else:\n",
    "        print(\"No 'standings' key found in the JSON response.\")\n",
    "else:\n",
    "    print(\"Failed to retrieve data: \", response.status_code)\n"
   ]
  }
 ],
 "metadata": {
  "kernelspec": {
   "display_name": "Python 3",
   "language": "python",
   "name": "python3"
  },
  "language_info": {
   "codemirror_mode": {
    "name": "ipython",
    "version": 3
   },
   "file_extension": ".py",
   "mimetype": "text/x-python",
   "name": "python",
   "nbconvert_exporter": "python",
   "pygments_lexer": "ipython3",
   "version": "3.12.3"
  }
 },
 "nbformat": 4,
 "nbformat_minor": 2
}
